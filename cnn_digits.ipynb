{
 "cells": [
  {
   "cell_type": "code",
   "execution_count": null,
   "metadata": {},
   "outputs": [],
   "source": [
    "#pip install comet_ml > /dev/null 2>&1\n",
    "import comet_ml\n",
    "# ENTER YOUR COMET API KEY HERE!!\n",
    "COMET_API_KEY = \"\"\n",
    "\n",
    "# Import Tensorflow 2.0 - \n",
    "# pip install tensorflow-macos (optimized version)\n",
    "# pip install tensorflow-metal (GPU acceleration)\n",
    "import tensorflow as tf\n",
    "\n",
    "# other packages\n",
    "import matplotlib.pyplot as plt\n",
    "import numpy as np\n",
    "\n",
    "import cv2"
   ]
  },
  {
   "cell_type": "code",
   "execution_count": null,
   "metadata": {},
   "outputs": [],
   "source": [
    "print(\"GPUs available:\", tf.config.list_physical_devices('GPU'))\n",
    "# Check that we are using a GPU, if not switch runtimes\n",
    "# using Runtime > Change Runtime Type > GPU\n",
    "assert len(tf.config.list_physical_devices('GPU')) > 0\n",
    "assert COMET_API_KEY != \"\", \"Please insert your Comet API Key\""
   ]
  },
  {
   "cell_type": "code",
   "execution_count": null,
   "metadata": {},
   "outputs": [],
   "source": [
    "# Create a Comet experiment function to track each of the training runs\n",
    "\n",
    "def create_experiment(optimizer, learning_rate):\n",
    "  # end any prior experiments\n",
    "  if 'experiment' in locals():\n",
    "    experiment.end()\n",
    "\n",
    "  # initiate the comet experiment for tracking\n",
    "  experiment = comet_ml.Experiment(\n",
    "                  api_key=COMET_API_KEY,\n",
    "                  project_name=\"MNIST_CNN\")\n",
    "  \n",
    "  experiment.set_name(optimizer + \"_\" + learning_rate)\n",
    "  return experiment\n"
   ]
  },
  {
   "cell_type": "code",
   "execution_count": null,
   "metadata": {},
   "outputs": [],
   "source": [
    "# LOAD DATASET\n",
    "mnist = tf.keras.datasets.mnist.load_data()\n",
    "\n",
    "(train_images, train_labels), (test_images, test_labels) = mnist\n",
    "\n",
    "print(\"Training images shape: \", train_images.shape)\n",
    "print(\"Training labels shape: {}\".format(train_labels.shape))\n",
    "print(\"Testing images shape: {}\".format(tf.shape(test_images)))\n",
    "print(f\"Test labels shape: {test_labels.shape} \")"
   ]
  },
  {
   "cell_type": "code",
   "execution_count": null,
   "metadata": {},
   "outputs": [],
   "source": [
    "# PREPARE DATASET FOR CNN\n",
    "# Adjust the shape of the images and normalize pixel values in the range [0,1]\n",
    "print(f\"{' Not normalized image values ':-^100}\")\n",
    "print(train_images[0])\n",
    "# Mnist dataset contains images of size 28x28 and pixel values in the range [0,255]\n",
    "\n",
    "train_images = (np.expand_dims(train_images, axis = -1)/255.0).astype(np.float32)\n",
    "test_images = (np.expand_dims(test_images, axis = -1)/255.0).astype(np.float32)\n",
    "train_labels = train_labels.astype(np.int64)\n",
    "test_labels = test_labels.astype(np.int64)\n",
    "\n",
    "print(f\"{' Printing train_images values ':-^100}\")\n",
    "print(train_images[0])"
   ]
  },
  {
   "cell_type": "code",
   "execution_count": null,
   "metadata": {},
   "outputs": [],
   "source": [
    "# Plot 36 random images from the dataset\n",
    "print(f\"{ ' Plotting 36 random images ':-^100}\")\n",
    "\n",
    "print(f\"{' Randomly selected images ':-^100}\")\n",
    "random_indices = np.random.choice(train_images.shape[0],36,replace = False)\n",
    "print(f\"Random indices: {random_indices}\")\n",
    "\n",
    "print(f\"{' Plotting the images ':-^100}\")\n",
    "\n",
    "plt.figure(figsize=(10, 10))\n",
    "for i in range(36):\n",
    "    plt.subplot(6,6,i+1)\n",
    "    plt.xticks([])\n",
    "    plt.yticks([])\n",
    "    plt.grid(False)\n",
    "    plt.imshow(train_images[random_indices[i]], cmap = plt.cm.binary)\n",
    "    plt.axis('off')\n",
    "    title = f\"Label: {train_labels[random_indices[i]]} \\n Index: {random_indices[i]}\"\n",
    "    plt.title(title)\n",
    "\n",
    "plt.subplots_adjust(hspace=0.5)\n",
    "plt.suptitle(\"MNIST Dataset - Randomly Selected Images\", fontsize=16)\n",
    "\n",
    "print(f\"{' Logging the images to Comet ':-^100}\")\n"
   ]
  },
  {
   "cell_type": "code",
   "execution_count": null,
   "metadata": {},
   "outputs": [],
   "source": [
    "# 0 DEFINE HYPERPARAMETERES + Experiment creation\n",
    "\n",
    "params = {\n",
    "    \"learning_rate\": 0.0001,\n",
    "    \"batch_size\": 64,\n",
    "    \"num_epochs\": 5,\n",
    "    \"loss_function\": \"sparse_categorical_crossentropy\",\n",
    "}\n",
    "\n",
    "comet_model_fcnn = create_experiment(\"Adam\", str(params[\"learning_rate\"]))\n"
   ]
  },
  {
   "cell_type": "code",
   "execution_count": null,
   "metadata": {},
   "outputs": [],
   "source": [
    "# 1 CREATE A FULLY CONNECTED MODEL\n",
    "\n",
    "print(f\"{' Creating Fully Connected Neural Network ':-^100}\")\n",
    "\n",
    "def build_fc_model():\n",
    "    fc_model = tf.keras.Sequential([\n",
    "        tf.keras.layers.Flatten(),\n",
    "        tf.keras.layers.Dense(128, activation = 'relu'),\n",
    "        tf.keras.layers.Dense(10, activation = 'softmax')\n",
    "    ])\n",
    "    return fc_model\n",
    "\n",
    "fc_model = build_fc_model()\n",
    "fc_model.summary()"
   ]
  },
  {
   "cell_type": "code",
   "execution_count": null,
   "metadata": {},
   "outputs": [],
   "source": [
    "# 2 DEFINE LOSS, OPTIMIZER AND METRICS\n",
    "print(f\"{' Defining Loss, Optimizer and Metrics using model.compile ':-^100}\")\n",
    "\n",
    "fc_model.compile(\n",
    "    loss = params['loss_function'],\n",
    "    optimizer = tf.keras.optimizers.Adam(learning_rate=params['learning_rate']),\n",
    "    metrics = ['accuracy']\n",
    ")"
   ]
  },
  {
   "cell_type": "code",
   "execution_count": null,
   "metadata": {},
   "outputs": [],
   "source": [
    "# 3 TRAIN THE MODEL\n",
    "print(f\"{' Training the model using model.fit ':-^100}\")\n",
    "\n",
    "fc_model.fit(train_images, train_labels,batch_size = params['batch_size'], epochs = params['num_epochs'])\n",
    "comet_model_fcnn.end()\n",
    "\n",
    "# It has been seen that: \n",
    "# SGD Optimizer converges faster with higher learning rates, however, learning rates greater than\n",
    "# 0.1 can cause the model to diverge. Best model: learning rate = 0.05\n",
    "# Adam optimizer converges faster than SGD and requires smaller learnings rates < 0.001. Best \n",
    "# model: learning rate = 0.0005\n",
    "\n",
    "# The best model of all is using the Adam optimizer with a learning rate of 0.0005, yielding an \n",
    "# accuracy of 0.9254.\n",
    "\n",
    "# SGD optimizer is more sensitive to the learning rate than Adam optimizer.\n"
   ]
  },
  {
   "cell_type": "code",
   "execution_count": null,
   "metadata": {},
   "outputs": [],
   "source": [
    "# 4 EVALUATE THE MODEL ON TEST DATASET\n",
    "print(f\"{' Evaluating the model using model.evaluate ':-^100}\")\n",
    "\n",
    "test_loss, test_accuracy = fc_model.evaluate(test_images, test_labels, batch_size = params['batch_size'])\n",
    "\n",
    "print(f\"Test accuracy: {test_accuracy:.4f}\")\n",
    "\n",
    "# When a machine learning model performs worse on new data than on its training data is an example\n",
    "# of overfitting = the accuracy on the test dataset is lower than the accuracy on the training dataset.\n",
    "\n",
    "# The max accuracy on the training dataset that we can achieve using a fully connected neural network\n",
    "# is 0.92. How can we do better?"
   ]
  },
  {
   "cell_type": "code",
   "execution_count": null,
   "metadata": {},
   "outputs": [],
   "source": [
    "# 0 DEFINE HYPERPARAMETERES + Experiment creation\n",
    "\n",
    "params = {\n",
    "    \"learning_rate\": 0.0005,\n",
    "    \"batch_size\": 64,\n",
    "    \"num_epochs\": 5,\n",
    "    \"loss_function\": \"sparse_categorical_crossentropy\",\n",
    "}\n",
    "\n",
    "comet_model_cnn = create_experiment(\"Adam\", str(params[\"learning_rate\"]))\n"
   ]
  },
  {
   "cell_type": "code",
   "execution_count": null,
   "metadata": {},
   "outputs": [],
   "source": [
    "# 1 DEFINE THE CNN MODEL\n",
    "print(f\"{' Creating Convolutional Neural Network ':-^100}\")\n",
    "cnn_model = tf.keras.Sequential([\n",
    "    tf.keras.layers.Conv2D(24,kernel_size=(3,3), activation = 'relu'),\n",
    "    tf.keras.layers.MaxPooling2D(pool_size=(2,2)),\n",
    "    tf.keras.layers.Conv2D(36,kernel_size=(3,3), activation = 'relu'),\n",
    "    tf.keras.layers.MaxPooling2D(pool_size=(2,2)),\n",
    "    tf.keras.layers.Flatten(),\n",
    "    tf.keras.layers.Dense(128, activation = 'relu'),\n",
    "    tf.keras.layers.Dense(10, activation = 'softmax')\n",
    "])\n",
    "\n",
    "cnn_model.predict(train_images[[0]])\n",
    "cnn_model.summary()"
   ]
  },
  {
   "cell_type": "code",
   "execution_count": null,
   "metadata": {},
   "outputs": [],
   "source": [
    "# 2 DEFINE LOSS, OPTIMIZER AND METRICS\n",
    "print(f\"{' Defining Loss, Optimizer and Metrics using model.compile ':-^100}\")\n",
    "\n",
    "cnn_model.compile(\n",
    "    loss = params['loss_function'],\n",
    "    optimizer = tf.keras.optimizers.Adam(learning_rate = params['learning_rate']),\n",
    "    metrics = ['accuracy']\n",
    ")"
   ]
  },
  {
   "cell_type": "code",
   "execution_count": null,
   "metadata": {},
   "outputs": [],
   "source": [
    "# 3 TRAIN THE MODEL USING MODEL.FIT\n",
    "print(f\"{' Training the model using model.fit ':-^100}\")\n",
    "\n",
    "cnn_model.fit(train_images, train_labels, batch_size = params['batch_size'], epochs = params['num_epochs'])\n",
    "comet_model_cnn.end()"
   ]
  },
  {
   "cell_type": "code",
   "execution_count": null,
   "metadata": {},
   "outputs": [],
   "source": [
    "# 4 EVALUATE THE MODEL USING MODEL.EVALUATE\n",
    "print(f\"{' Evaluating the model using model.evaluate ':-^100}\")\n",
    "\n",
    "test_loss, test_accuracy = cnn_model.evaluate(test_images, test_labels, batch_size = params['batch_size'])\n",
    "\n",
    "print(f\"Test accuracy: {test_accuracy:.4f}\")\n",
    "\n",
    "\n",
    "# Best model for: \n",
    "# SGD Optimizer: learning rate = 0.01\n",
    "# Adam Optimizer: learning rate = 0.0005"
   ]
  },
  {
   "cell_type": "code",
   "execution_count": null,
   "metadata": {},
   "outputs": [],
   "source": [
    "# 5 MAKE PREDICTION WITH CNN MODEL\n",
    "print(f\"{' Making predictions using model.predict ':-^100}\")\n",
    "\n",
    "predictions = cnn_model.predict(test_images)\n"
   ]
  },
  {
   "cell_type": "code",
   "execution_count": null,
   "metadata": {},
   "outputs": [],
   "source": [
    "# Visualize the classification results\n",
    "plt.figure(figsize=(10, 10))\n",
    "\n",
    "random_indices = np.random.choice(test_images.shape[0],36,replace = False)\n",
    "\n",
    "for i in range(36):\n",
    "    plt.subplot(6,6,i+1)\n",
    "    plt.xticks([])\n",
    "    plt.yticks([])\n",
    "    plt.grid(False)\n",
    "    plt.imshow(test_images[random_indices[i]], cmap = plt.cm.binary)\n",
    "    plt.axis('off')\n",
    "    plt.title(f\"Predicted label: {np.argmax(predictions[random_indices[i]])} \\n Actual label: {test_labels[random_indices[i]]}\", fontsize = 8)\n",
    "\n",
    "plt.subplots_adjust(hspace=0.5)\n",
    "plt.suptitle(\"MNIST Dataset - Randomly Selected Images\", fontsize=16)"
   ]
  },
  {
   "cell_type": "code",
   "execution_count": null,
   "metadata": {},
   "outputs": [],
   "source": [
    "# Predict own data\n",
    "\n",
    "img = cv2.imread(\"digit3.jpeg\", cv2.IMREAD_GRAYSCALE)\n",
    "img = cv2.resize(img, (28, 28))\n",
    "img = cv2.bitwise_not(img)\n",
    "img = (img/255.0).astype(np.float32)\n",
    "img = np.expand_dims(img, axis = -1)\n",
    "\n",
    "\n",
    "prediction = cnn_model.predict(np.array([img]))\n",
    "\n",
    "plt.figure(figsize=(5, 5))\n",
    "plt.imshow(img, cmap = plt.cm.binary)\n",
    "plt.axis('off')\n",
    "plt.title(f\"Predicted label: {np.argmax(prediction)} \\n Actual label: 3\", fontsize = 8)"
   ]
  }
 ],
 "metadata": {
  "kernelspec": {
   "display_name": ".venv",
   "language": "python",
   "name": "python3"
  },
  "language_info": {
   "codemirror_mode": {
    "name": "ipython",
    "version": 3
   },
   "file_extension": ".py",
   "mimetype": "text/x-python",
   "name": "python",
   "nbconvert_exporter": "python",
   "pygments_lexer": "ipython3",
   "version": "3.11.11"
  }
 },
 "nbformat": 4,
 "nbformat_minor": 2
}
